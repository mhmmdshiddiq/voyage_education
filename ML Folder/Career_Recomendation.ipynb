{
  "nbformat": 4,
  "nbformat_minor": 0,
  "metadata": {
    "colab": {
      "provenance": []
    },
    "kernelspec": {
      "name": "python3",
      "display_name": "Python 3"
    },
    "language_info": {
      "name": "python"
    }
  },
  "cells": [
    {
      "cell_type": "code",
      "execution_count": 14,
      "metadata": {
        "id": "eln6HjxjDckU"
      },
      "outputs": [],
      "source": [
        "import pandas as pd\n",
        "import numpy as np\n",
        "from sklearn.model_selection import train_test_split\n",
        "from sklearn.preprocessing import LabelEncoder, StandardScaler\n",
        "from tensorflow.keras.models import Sequential\n",
        "from tensorflow.keras.layers import Dense"
      ]
    },
    {
      "cell_type": "code",
      "source": [
        "from google.colab import drive\n",
        "drive.mount('/content/drive')"
      ],
      "metadata": {
        "colab": {
          "base_uri": "https://localhost:8080/"
        },
        "id": "CwMMbZNcHgMM",
        "outputId": "5969fb71-28d6-4ea1-c88d-bc3424310bbd"
      },
      "execution_count": 2,
      "outputs": [
        {
          "output_type": "stream",
          "name": "stdout",
          "text": [
            "Drive already mounted at /content/drive; to attempt to forcibly remount, call drive.mount(\"/content/drive\", force_remount=True).\n"
          ]
        }
      ]
    },
    {
      "cell_type": "code",
      "source": [
        "data_tes_df = pd.read_csv('/content/drive/MyDrive/data_tes_career.csv')"
      ],
      "metadata": {
        "id": "q6f-V7nKDqTz"
      },
      "execution_count": 15,
      "outputs": []
    },
    {
      "cell_type": "code",
      "source": [
        "label_encoder = LabelEncoder()\n",
        "data_tes_df['Career Recommendation'] = label_encoder.fit_transform(data_tes_df['Career Recommendation'])"
      ],
      "metadata": {
        "id": "H26xJ3SeDvPt"
      },
      "execution_count": 16,
      "outputs": []
    },
    {
      "cell_type": "code",
      "source": [
        "X_train, X_test, y_train, y_test = train_test_split(\n",
        "    data_tes_df.drop('Career Recommendation', axis=1),\n",
        "    data_tes_df['Career Recommendation'],\n",
        "    test_size=0.2, random_state=42\n",
        ")"
      ],
      "metadata": {
        "id": "uC8bEAs-EaNe"
      },
      "execution_count": 17,
      "outputs": []
    },
    {
      "cell_type": "code",
      "source": [
        "scaler = StandardScaler()\n",
        "X_train_normalized = scaler.fit_transform(X_train)\n",
        "X_test_normalized = scaler.transform(X_test)"
      ],
      "metadata": {
        "id": "-ICLwDQgEg5O"
      },
      "execution_count": 18,
      "outputs": []
    },
    {
      "cell_type": "code",
      "source": [
        "model = Sequential()\n",
        "model.add(Dense(64, input_dim=X_train.shape[1], activation='relu'))\n",
        "model.add(Dense(32, activation='relu'))\n",
        "model.add(Dense(len(data_tes_df['Career Recommendation'].unique()), activation='softmax'))"
      ],
      "metadata": {
        "id": "i7mKWWTFEkIe"
      },
      "execution_count": 19,
      "outputs": []
    },
    {
      "cell_type": "code",
      "source": [
        "model.compile(optimizer='adam', loss='sparse_categorical_crossentropy', metrics=['accuracy'])"
      ],
      "metadata": {
        "id": "LsbNazFbEmpe"
      },
      "execution_count": 20,
      "outputs": []
    },
    {
      "cell_type": "code",
      "source": [
        "model.fit(X_train_normalized, y_train, epochs=50, batch_size=2, validation_data=(X_test_normalized, y_test))"
      ],
      "metadata": {
        "colab": {
          "base_uri": "https://localhost:8080/"
        },
        "id": "esHEWqsXEpal",
        "outputId": "9421788b-7749-401a-9aea-1d0d457a978b"
      },
      "execution_count": 21,
      "outputs": [
        {
          "output_type": "stream",
          "name": "stdout",
          "text": [
            "Epoch 1/50\n",
            "221/221 [==============================] - 2s 5ms/step - loss: 4.4713 - accuracy: 0.0340 - val_loss: 4.3297 - val_accuracy: 0.0631\n",
            "Epoch 2/50\n",
            "221/221 [==============================] - 1s 3ms/step - loss: 3.8168 - accuracy: 0.1361 - val_loss: 3.8078 - val_accuracy: 0.1171\n",
            "Epoch 3/50\n",
            "221/221 [==============================] - 1s 3ms/step - loss: 2.8074 - accuracy: 0.3197 - val_loss: 3.2503 - val_accuracy: 0.2342\n",
            "Epoch 4/50\n",
            "221/221 [==============================] - 1s 3ms/step - loss: 1.9278 - accuracy: 0.5283 - val_loss: 2.6258 - val_accuracy: 0.3604\n",
            "Epoch 5/50\n",
            "221/221 [==============================] - 1s 4ms/step - loss: 1.3314 - accuracy: 0.6916 - val_loss: 2.3680 - val_accuracy: 0.3964\n",
            "Epoch 6/50\n",
            "221/221 [==============================] - 1s 3ms/step - loss: 0.9582 - accuracy: 0.7710 - val_loss: 2.0992 - val_accuracy: 0.4505\n",
            "Epoch 7/50\n",
            "221/221 [==============================] - 1s 2ms/step - loss: 0.7355 - accuracy: 0.8322 - val_loss: 1.9867 - val_accuracy: 0.4505\n",
            "Epoch 8/50\n",
            "221/221 [==============================] - 1s 2ms/step - loss: 0.5818 - accuracy: 0.8730 - val_loss: 1.8961 - val_accuracy: 0.4955\n",
            "Epoch 9/50\n",
            "221/221 [==============================] - 1s 3ms/step - loss: 0.4795 - accuracy: 0.8889 - val_loss: 1.9160 - val_accuracy: 0.4775\n",
            "Epoch 10/50\n",
            "221/221 [==============================] - 1s 3ms/step - loss: 0.3855 - accuracy: 0.9161 - val_loss: 1.7716 - val_accuracy: 0.5405\n",
            "Epoch 11/50\n",
            "221/221 [==============================] - 1s 2ms/step - loss: 0.3292 - accuracy: 0.9320 - val_loss: 1.8077 - val_accuracy: 0.5495\n",
            "Epoch 12/50\n",
            "221/221 [==============================] - 1s 3ms/step - loss: 0.2786 - accuracy: 0.9478 - val_loss: 1.9179 - val_accuracy: 0.5586\n",
            "Epoch 13/50\n",
            "221/221 [==============================] - 1s 2ms/step - loss: 0.2487 - accuracy: 0.9501 - val_loss: 1.8338 - val_accuracy: 0.5225\n",
            "Epoch 14/50\n",
            "221/221 [==============================] - 1s 3ms/step - loss: 0.2148 - accuracy: 0.9660 - val_loss: 1.8941 - val_accuracy: 0.5315\n",
            "Epoch 15/50\n",
            "221/221 [==============================] - 1s 3ms/step - loss: 0.1854 - accuracy: 0.9660 - val_loss: 1.8771 - val_accuracy: 0.5676\n",
            "Epoch 16/50\n",
            "221/221 [==============================] - 1s 3ms/step - loss: 0.1618 - accuracy: 0.9728 - val_loss: 1.8913 - val_accuracy: 0.5405\n",
            "Epoch 17/50\n",
            "221/221 [==============================] - 1s 3ms/step - loss: 0.1392 - accuracy: 0.9751 - val_loss: 1.8476 - val_accuracy: 0.5586\n",
            "Epoch 18/50\n",
            "221/221 [==============================] - 1s 3ms/step - loss: 0.1279 - accuracy: 0.9796 - val_loss: 1.8373 - val_accuracy: 0.5766\n",
            "Epoch 19/50\n",
            "221/221 [==============================] - 1s 2ms/step - loss: 0.1165 - accuracy: 0.9819 - val_loss: 1.9033 - val_accuracy: 0.5586\n",
            "Epoch 20/50\n",
            "221/221 [==============================] - 1s 3ms/step - loss: 0.1010 - accuracy: 0.9887 - val_loss: 1.8783 - val_accuracy: 0.6126\n",
            "Epoch 21/50\n",
            "221/221 [==============================] - 1s 3ms/step - loss: 0.0937 - accuracy: 0.9864 - val_loss: 1.8655 - val_accuracy: 0.5856\n",
            "Epoch 22/50\n",
            "221/221 [==============================] - 1s 3ms/step - loss: 0.0794 - accuracy: 0.9932 - val_loss: 1.9674 - val_accuracy: 0.5946\n",
            "Epoch 23/50\n",
            "221/221 [==============================] - 1s 3ms/step - loss: 0.0722 - accuracy: 0.9909 - val_loss: 1.9101 - val_accuracy: 0.5946\n",
            "Epoch 24/50\n",
            "221/221 [==============================] - 1s 3ms/step - loss: 0.0581 - accuracy: 0.9977 - val_loss: 2.0643 - val_accuracy: 0.5676\n",
            "Epoch 25/50\n",
            "221/221 [==============================] - 1s 3ms/step - loss: 0.0656 - accuracy: 0.9887 - val_loss: 1.9872 - val_accuracy: 0.5946\n",
            "Epoch 26/50\n",
            "221/221 [==============================] - 1s 4ms/step - loss: 0.0659 - accuracy: 0.9864 - val_loss: 2.2025 - val_accuracy: 0.5495\n",
            "Epoch 27/50\n",
            "221/221 [==============================] - 1s 3ms/step - loss: 0.0702 - accuracy: 0.9841 - val_loss: 2.0733 - val_accuracy: 0.6036\n",
            "Epoch 28/50\n",
            "221/221 [==============================] - 1s 4ms/step - loss: 0.0431 - accuracy: 0.9955 - val_loss: 2.0543 - val_accuracy: 0.6036\n",
            "Epoch 29/50\n",
            "221/221 [==============================] - 1s 3ms/step - loss: 0.0412 - accuracy: 0.9909 - val_loss: 1.9924 - val_accuracy: 0.6036\n",
            "Epoch 30/50\n",
            "221/221 [==============================] - 1s 3ms/step - loss: 0.0444 - accuracy: 0.9909 - val_loss: 2.1167 - val_accuracy: 0.6036\n",
            "Epoch 31/50\n",
            "221/221 [==============================] - 1s 2ms/step - loss: 0.0353 - accuracy: 0.9909 - val_loss: 2.1264 - val_accuracy: 0.5405\n",
            "Epoch 32/50\n",
            "221/221 [==============================] - 1s 2ms/step - loss: 0.0336 - accuracy: 0.9932 - val_loss: 2.0633 - val_accuracy: 0.5766\n",
            "Epoch 33/50\n",
            "221/221 [==============================] - 1s 3ms/step - loss: 0.0287 - accuracy: 0.9977 - val_loss: 2.1258 - val_accuracy: 0.5856\n",
            "Epoch 34/50\n",
            "221/221 [==============================] - 1s 3ms/step - loss: 0.0297 - accuracy: 0.9932 - val_loss: 2.1733 - val_accuracy: 0.5856\n",
            "Epoch 35/50\n",
            "221/221 [==============================] - 1s 3ms/step - loss: 0.0639 - accuracy: 0.9841 - val_loss: 2.4138 - val_accuracy: 0.5495\n",
            "Epoch 36/50\n",
            "221/221 [==============================] - 1s 3ms/step - loss: 0.0530 - accuracy: 0.9887 - val_loss: 2.4473 - val_accuracy: 0.5225\n",
            "Epoch 37/50\n",
            "221/221 [==============================] - 1s 2ms/step - loss: 0.0310 - accuracy: 0.9955 - val_loss: 2.3302 - val_accuracy: 0.5856\n",
            "Epoch 38/50\n",
            "221/221 [==============================] - 1s 2ms/step - loss: 0.0268 - accuracy: 0.9932 - val_loss: 2.2071 - val_accuracy: 0.6036\n",
            "Epoch 39/50\n",
            "221/221 [==============================] - 1s 3ms/step - loss: 0.0247 - accuracy: 0.9955 - val_loss: 2.2125 - val_accuracy: 0.5766\n",
            "Epoch 40/50\n",
            "221/221 [==============================] - 1s 2ms/step - loss: 0.0440 - accuracy: 0.9887 - val_loss: 2.3783 - val_accuracy: 0.5586\n",
            "Epoch 41/50\n",
            "221/221 [==============================] - 1s 3ms/step - loss: 0.0311 - accuracy: 0.9909 - val_loss: 2.2767 - val_accuracy: 0.6216\n",
            "Epoch 42/50\n",
            "221/221 [==============================] - 1s 2ms/step - loss: 0.0178 - accuracy: 0.9977 - val_loss: 2.3498 - val_accuracy: 0.5315\n",
            "Epoch 43/50\n",
            "221/221 [==============================] - 1s 3ms/step - loss: 0.0301 - accuracy: 0.9909 - val_loss: 2.4089 - val_accuracy: 0.6036\n",
            "Epoch 44/50\n",
            "221/221 [==============================] - 1s 3ms/step - loss: 0.0115 - accuracy: 0.9977 - val_loss: 2.3980 - val_accuracy: 0.5766\n",
            "Epoch 45/50\n",
            "221/221 [==============================] - 1s 3ms/step - loss: 0.0258 - accuracy: 0.9909 - val_loss: 2.4817 - val_accuracy: 0.5946\n",
            "Epoch 46/50\n",
            "221/221 [==============================] - 1s 3ms/step - loss: 0.0133 - accuracy: 0.9977 - val_loss: 2.3675 - val_accuracy: 0.6036\n",
            "Epoch 47/50\n",
            "221/221 [==============================] - 1s 3ms/step - loss: 0.0117 - accuracy: 0.9977 - val_loss: 2.4886 - val_accuracy: 0.6036\n",
            "Epoch 48/50\n",
            "221/221 [==============================] - 1s 3ms/step - loss: 0.0211 - accuracy: 0.9909 - val_loss: 2.4572 - val_accuracy: 0.5766\n",
            "Epoch 49/50\n",
            "221/221 [==============================] - 1s 3ms/step - loss: 0.0121 - accuracy: 0.9955 - val_loss: 2.5847 - val_accuracy: 0.5135\n",
            "Epoch 50/50\n",
            "221/221 [==============================] - 1s 4ms/step - loss: 0.0075 - accuracy: 1.0000 - val_loss: 2.4681 - val_accuracy: 0.5856\n"
          ]
        },
        {
          "output_type": "execute_result",
          "data": {
            "text/plain": [
              "<keras.src.callbacks.History at 0x781d0f4ea620>"
            ]
          },
          "metadata": {},
          "execution_count": 21
        }
      ]
    },
    {
      "cell_type": "markdown",
      "source": [
        " ...."
      ],
      "metadata": {
        "id": "HCK5TX96GmnC"
      }
    },
    {
      "cell_type": "markdown",
      "source": [
        "Tes Input nilai user baru"
      ],
      "metadata": {
        "id": "YPF0Cd8vGVgX"
      }
    },
    {
      "cell_type": "code",
      "source": [
        "new_user_data = np.array([4, 4, 4, 2, 2, 5, 5, 5]).reshape(1, -1)"
      ],
      "metadata": {
        "id": "7rhbmVHxFJgH"
      },
      "execution_count": 26,
      "outputs": []
    },
    {
      "cell_type": "code",
      "source": [
        "new_user_data_normalized = scaler.transform(new_user_data)"
      ],
      "metadata": {
        "colab": {
          "base_uri": "https://localhost:8080/"
        },
        "id": "gPcSAtRYFNF0",
        "outputId": "64c0dd19-33e9-4ed0-d68f-56f64f7bef8d"
      },
      "execution_count": 27,
      "outputs": [
        {
          "output_type": "stream",
          "name": "stderr",
          "text": [
            "/usr/local/lib/python3.10/dist-packages/sklearn/base.py:439: UserWarning: X does not have valid feature names, but StandardScaler was fitted with feature names\n",
            "  warnings.warn(\n"
          ]
        }
      ]
    },
    {
      "cell_type": "code",
      "source": [
        "new_user_prediction = model.predict(new_user_data_normalized)"
      ],
      "metadata": {
        "colab": {
          "base_uri": "https://localhost:8080/"
        },
        "id": "ysMqT1afFPds",
        "outputId": "c81eea54-8934-43bc-f348-1489dd8890de"
      },
      "execution_count": 28,
      "outputs": [
        {
          "output_type": "stream",
          "name": "stdout",
          "text": [
            "1/1 [==============================] - 0s 21ms/step\n"
          ]
        }
      ]
    },
    {
      "cell_type": "code",
      "source": [
        "predicted_class_index = np.argmax(new_user_prediction, axis=1)\n",
        "predicted_class = label_encoder.inverse_transform(predicted_class_index)[0]\n",
        "\n",
        "print(\"\\nCareer recommendation :\", predicted_class)"
      ],
      "metadata": {
        "colab": {
          "base_uri": "https://localhost:8080/"
        },
        "id": "slpW7vPOFSqN",
        "outputId": "d8736bc6-d62c-4cf1-9c79-5ad643ab78d3"
      },
      "execution_count": 29,
      "outputs": [
        {
          "output_type": "stream",
          "name": "stdout",
          "text": [
            "\n",
            "Career recommendation : Teacher,Counselor,Lecturers,Life Coach,Psychologist,Consultant,Biologist,Agriculture,Veterinary Medicine\n"
          ]
        }
      ]
    },
    {
      "cell_type": "code",
      "source": [
        "model.save('model.h5')"
      ],
      "metadata": {
        "id": "nrzP1R46yeOS"
      },
      "execution_count": 31,
      "outputs": []
    }
  ]
}